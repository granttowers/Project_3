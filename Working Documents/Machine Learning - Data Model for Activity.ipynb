{
 "cells": [
  {
   "cell_type": "code",
   "execution_count": 1,
   "metadata": {
    "collapsed": true
   },
   "outputs": [],
   "source": [
    "from sklearn import tree\n",
    "import pandas as pd\n",
    "import os"
   ]
  },
  {
   "cell_type": "code",
   "execution_count": 2,
   "metadata": {},
   "outputs": [
    {
     "data": {
      "text/html": [
       "<div>\n",
       "<style scoped>\n",
       "    .dataframe tbody tr th:only-of-type {\n",
       "        vertical-align: middle;\n",
       "    }\n",
       "\n",
       "    .dataframe tbody tr th {\n",
       "        vertical-align: top;\n",
       "    }\n",
       "\n",
       "    .dataframe thead th {\n",
       "        text-align: right;\n",
       "    }\n",
       "</style>\n",
       "<table border=\"1\" class=\"dataframe\">\n",
       "  <thead>\n",
       "    <tr style=\"text-align: right;\">\n",
       "      <th></th>\n",
       "      <th>mine_id</th>\n",
       "      <th>Operational Process</th>\n",
       "      <th>Date</th>\n",
       "      <th>State</th>\n",
       "      <th>Resource Mined</th>\n",
       "      <th>Underground Method</th>\n",
       "      <th>Accident Injury Illness Classification</th>\n",
       "      <th>Accident Type</th>\n",
       "      <th>Injury Count</th>\n",
       "      <th>Sex</th>\n",
       "      <th>...</th>\n",
       "      <th>Operator Contractor</th>\n",
       "      <th>Commodity WorkStatus</th>\n",
       "      <th>General Incident Type</th>\n",
       "      <th>Unnamed: 28</th>\n",
       "      <th>Unnamed: 29</th>\n",
       "      <th>Unnamed: 30</th>\n",
       "      <th>Unnamed: 31</th>\n",
       "      <th>Unnamed: 32</th>\n",
       "      <th>Unnamed: 33</th>\n",
       "      <th>Unnamed: 34</th>\n",
       "    </tr>\n",
       "  </thead>\n",
       "  <tbody>\n",
       "    <tr>\n",
       "      <th>0</th>\n",
       "      <td>1200945</td>\n",
       "      <td>Dredging Activities</td>\n",
       "      <td>13/10/2020</td>\n",
       "      <td>Indiana</td>\n",
       "      <td>Sand &amp; gravel</td>\n",
       "      <td>0</td>\n",
       "      <td>Handling material</td>\n",
       "      <td>Caught in-under-between a moving and stationar...</td>\n",
       "      <td>1</td>\n",
       "      <td>Female</td>\n",
       "      <td>...</td>\n",
       "      <td>Operator</td>\n",
       "      <td>Sand &amp; gravel operator</td>\n",
       "      <td>Handling material</td>\n",
       "      <td>NaN</td>\n",
       "      <td>NaN</td>\n",
       "      <td>NaN</td>\n",
       "      <td>NaN</td>\n",
       "      <td>NaN</td>\n",
       "      <td>NaN</td>\n",
       "      <td>NaN</td>\n",
       "    </tr>\n",
       "  </tbody>\n",
       "</table>\n",
       "<p>1 rows × 35 columns</p>\n",
       "</div>"
      ],
      "text/plain": [
       "   mine_id  Operational Process        Date    State Resource Mined  \\\n",
       "0  1200945  Dredging Activities  13/10/2020  Indiana  Sand & gravel   \n",
       "\n",
       "  Underground Method Accident Injury Illness Classification  \\\n",
       "0                  0                      Handling material   \n",
       "\n",
       "                                       Accident Type  Injury Count     Sex  \\\n",
       "0  Caught in-under-between a moving and stationar...             1  Female   \n",
       "\n",
       "   ... Operator Contractor    Commodity WorkStatus General Incident Type  \\\n",
       "0  ...            Operator  Sand & gravel operator     Handling material   \n",
       "\n",
       "  Unnamed: 28 Unnamed: 29 Unnamed: 30 Unnamed: 31  Unnamed: 32  Unnamed: 33  \\\n",
       "0         NaN         NaN         NaN         NaN          NaN          NaN   \n",
       "\n",
       "  Unnamed: 34  \n",
       "0         NaN  \n",
       "\n",
       "[1 rows x 35 columns]"
      ]
     },
     "execution_count": 2,
     "metadata": {},
     "output_type": "execute_result"
    }
   ],
   "source": [
    "df = pd.read_csv(os.path.join(\"final_data.csv\"))\n",
    "df.head(1)"
   ]
  },
  {
   "cell_type": "markdown",
   "metadata": {},
   "source": [
    "## Model 4 - Activity (Act)"
   ]
  },
  {
   "cell_type": "code",
   "execution_count": 3,
   "metadata": {
    "collapsed": true
   },
   "outputs": [
    {
     "data": {
      "text/html": [
       "<div>\n",
       "<style scoped>\n",
       "    .dataframe tbody tr th:only-of-type {\n",
       "        vertical-align: middle;\n",
       "    }\n",
       "\n",
       "    .dataframe tbody tr th {\n",
       "        vertical-align: top;\n",
       "    }\n",
       "\n",
       "    .dataframe thead th {\n",
       "        text-align: right;\n",
       "    }\n",
       "</style>\n",
       "<table border=\"1\" class=\"dataframe\">\n",
       "  <thead>\n",
       "    <tr style=\"text-align: right;\">\n",
       "      <th></th>\n",
       "      <th>Sex</th>\n",
       "      <th>Age</th>\n",
       "      <th>Occupation</th>\n",
       "    </tr>\n",
       "  </thead>\n",
       "  <tbody>\n",
       "    <tr>\n",
       "      <th>0</th>\n",
       "      <td>Female</td>\n",
       "      <td>20 - 29</td>\n",
       "      <td>Labourer Roles</td>\n",
       "    </tr>\n",
       "    <tr>\n",
       "      <th>1</th>\n",
       "      <td>Female</td>\n",
       "      <td>30 - 39</td>\n",
       "      <td>Labourer Roles</td>\n",
       "    </tr>\n",
       "    <tr>\n",
       "      <th>2</th>\n",
       "      <td>Female</td>\n",
       "      <td>30 - 39</td>\n",
       "      <td>Labourer Roles</td>\n",
       "    </tr>\n",
       "    <tr>\n",
       "      <th>3</th>\n",
       "      <td>Female</td>\n",
       "      <td>30 - 39</td>\n",
       "      <td>Labourer Roles</td>\n",
       "    </tr>\n",
       "    <tr>\n",
       "      <th>4</th>\n",
       "      <td>Female</td>\n",
       "      <td>30 - 39</td>\n",
       "      <td>Labourer Roles</td>\n",
       "    </tr>\n",
       "  </tbody>\n",
       "</table>\n",
       "</div>"
      ],
      "text/plain": [
       "      Sex      Age      Occupation\n",
       "0  Female  20 - 29  Labourer Roles\n",
       "1  Female  30 - 39  Labourer Roles\n",
       "2  Female  30 - 39  Labourer Roles\n",
       "3  Female  30 - 39  Labourer Roles\n",
       "4  Female  30 - 39  Labourer Roles"
      ]
     },
     "execution_count": 3,
     "metadata": {},
     "output_type": "execute_result"
    }
   ],
   "source": [
    "target = df[\"Activity\"]\n",
    "data = df[[\"Sex\",\"Age\", \"Occupation\"]]\n",
    "data.head()"
   ]
  },
  {
   "cell_type": "code",
   "execution_count": 4,
   "metadata": {},
   "outputs": [],
   "source": [
    "data_dummies = pd.get_dummies(data)"
   ]
  },
  {
   "cell_type": "code",
   "execution_count": 5,
   "metadata": {
    "collapsed": true
   },
   "outputs": [],
   "source": [
    "from sklearn.model_selection import train_test_split\n",
    "X_train, X_test, y_train, y_test = train_test_split(data_dummies, target)"
   ]
  },
  {
   "cell_type": "code",
   "execution_count": 6,
   "metadata": {},
   "outputs": [
    {
     "data": {
      "text/plain": [
       "0.24731182795698925"
      ]
     },
     "execution_count": 6,
     "metadata": {},
     "output_type": "execute_result"
    }
   ],
   "source": [
    "from sklearn.ensemble import RandomForestClassifier\n",
    "rf = RandomForestClassifier(n_estimators=200)\n",
    "rf = rf.fit(X_train, y_train)\n",
    "rf.score(X_test, y_test)"
   ]
  },
  {
   "cell_type": "code",
   "execution_count": 7,
   "metadata": {},
   "outputs": [
    {
     "data": {
      "text/plain": [
       "array(['Handling coal, rock, waste or ore'], dtype=object)"
      ]
     },
     "execution_count": 7,
     "metadata": {},
     "output_type": "execute_result"
    }
   ],
   "source": [
    "# This is how we predict. \n",
    "rf.predict([[1,0,0,0,0,1,0,0,0,0,0,0,0,0,0,0,0,0,0,1,0,0]])"
   ]
  },
  {
   "cell_type": "code",
   "execution_count": 8,
   "metadata": {},
   "outputs": [],
   "source": [
    "# Export the Output Headers to Excel\n",
    "X_train.to_csv(\"Machine Learning Output - Activity.csv\", index=False)"
   ]
  },
  {
   "cell_type": "code",
   "execution_count": 9,
   "metadata": {},
   "outputs": [
    {
     "data": {
      "text/plain": [
       "[(0.004991492476043532, 'Occupation_Apprentice or Trainee Roles'),\n",
       " (0.013807249526366316, 'Age_80 - 89'),\n",
       " (0.017861667601022268, 'Age_70 - 79'),\n",
       " (0.01878399903321885, 'Occupation_Maritime Roles'),\n",
       " (0.02537029630479867, 'Occupation_Driller and Support Roles'),\n",
       " (0.025757234065988416, 'Occupation_Other Role'),\n",
       " (0.030916522462633114, 'Occupation_Mine Supervisory and Management Roles'),\n",
       " (0.032503737754188605,\n",
       "  'Occupation_Technical Services (Geology, Survey, Engineer, Lab. Tech, OHS etc.)'),\n",
       " (0.03286839540430248, 'Occupation_Fixed Plant Operator and Support Roles'),\n",
       " (0.0335076816592964, 'Occupation_Explosives Roles'),\n",
       " (0.03503260054071539, 'Age_<20'),\n",
       " (0.03556093781695766, 'Sex_Male'),\n",
       " (0.03867912669219991, 'Sex_Female'),\n",
       " (0.05434760945027039, 'Age_20 - 29'),\n",
       " (0.054370796590135176, 'Age_30 - 39'),\n",
       " (0.05496044684799224, 'Occupation_Underground Miner and Support Roles'),\n",
       " (0.05561907860016111, 'Age_40 - 49'),\n",
       " (0.05613008658447835, 'Age_60 - 69'),\n",
       " (0.0645810952165448, 'Age_50 - 59'),\n",
       " (0.06720703043511321, 'Occupation_Labourer Roles'),\n",
       " (0.08901727294389333, 'Occupation_Mobile Plant Operator Roles'),\n",
       " (0.1581256419936796, 'Occupation_Trades Roles')]"
      ]
     },
     "execution_count": 9,
     "metadata": {},
     "output_type": "execute_result"
    }
   ],
   "source": [
    "sorted(zip(rf.feature_importances_,data_dummies.columns))\n"
   ]
  }
 ],
 "metadata": {
  "kernelspec": {
   "display_name": "Python 3.6.13 ('PythonAdv')",
   "language": "python",
   "name": "python3"
  },
  "language_info": {
   "codemirror_mode": {
    "name": "ipython",
    "version": 3
   },
   "file_extension": ".py",
   "mimetype": "text/x-python",
   "name": "python",
   "nbconvert_exporter": "python",
   "pygments_lexer": "ipython3",
   "version": "3.6.13"
  },
  "varInspector": {
   "cols": {
    "lenName": 16,
    "lenType": 16,
    "lenVar": 40
   },
   "kernels_config": {
    "python": {
     "delete_cmd_postfix": "",
     "delete_cmd_prefix": "del ",
     "library": "var_list.py",
     "varRefreshCmd": "print(var_dic_list())"
    },
    "r": {
     "delete_cmd_postfix": ") ",
     "delete_cmd_prefix": "rm(",
     "library": "var_list.r",
     "varRefreshCmd": "cat(var_dic_list()) "
    }
   },
   "types_to_exclude": [
    "module",
    "function",
    "builtin_function_or_method",
    "instance",
    "_Feature"
   ],
   "window_display": false
  },
  "vscode": {
   "interpreter": {
    "hash": "a51bce005fc57291b1bfd7441a70f6d03d06e41938bca3cdb858f98c74bae9c6"
   }
  }
 },
 "nbformat": 4,
 "nbformat_minor": 2
}
